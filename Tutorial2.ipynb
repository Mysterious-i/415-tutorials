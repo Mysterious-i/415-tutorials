{
 "cells": [
  {
   "cell_type": "code",
   "execution_count": null,
   "metadata": {
    "collapsed": false
   },
   "outputs": [],
   "source": [
    "import numpy as np\n",
    "import cv2\n",
    "\n",
    "# Load an image\n",
    "img = cv2.imread(\"C:\\opencv\\sources\\samples\\data\\messi5.jpg\")\n",
    "\n",
    "plt.subplot(111),plt.imshow(res2),plt.title('Image')#1x1 subplot,1 selected\n",
    "plt.xticks([]), plt.yticks([]) # remove axes ticks\n",
    "plt.show() # display all subplots"
   ]
  },
  {
   "cell_type": "code",
   "execution_count": null,
   "metadata": {
    "collapsed": false
   },
   "outputs": [],
   "source": [
    "import numpy as np\n",
    "import cv2\n",
    "\n",
    "# Load an image\n",
    "img = cv2.imread(\"C:\\opencv\\sources\\samples\\data\\messi5.jpg\")\n",
    "print(type(img))"
   ]
  },
  {
   "cell_type": "code",
   "execution_count": null,
   "metadata": {
    "collapsed": false
   },
   "outputs": [],
   "source": [
    "# Numpy Arrays\n",
    "import numpy as np\n",
    "\n",
    "# Creating numpy arrays\n",
    "a = np.array([1.2,3.0,4])\n",
    "b = np.array([(1,2,3,4),(5,6,7,8),(9,10,11,12)])\n",
    "# Printing array elements\n",
    "print('a=',a)\n",
    "print('b=',b)\n",
    "# Array data type\n",
    "print('a.dtype:',a.dtype)\n",
    "print('b.dtype:',b.dtype)\n",
    "# Array ndim\n",
    "print('a.ndim:',a.ndim)\n",
    "print('b.ndim:',b.ndim)\n",
    "# Array shape\n",
    "print('a.shape:',a.shape)\n",
    "print('b.shape:',b.shape)"
   ]
  },
  {
   "cell_type": "code",
   "execution_count": null,
   "metadata": {
    "collapsed": false
   },
   "outputs": [],
   "source": [
    "# Useful functions to create numpy arrays\n",
    "import numpy as np\n",
    "\n",
    "print('zeros:',np.zeros((2,3)))\n",
    "print('ones:',np.ones((2,3),dtype=np.int8)) # dtype can also be specified\n",
    "print('empty:',np.empty((2,3))) # uninitialized, output may vary\n",
    "print('arange:',np.arange(0,1,0.1)) # sequences of numbers\n",
    "print('reshaped',np.arange(12).reshape(3,4)) # reshaping arrays"
   ]
  },
  {
   "cell_type": "code",
   "execution_count": null,
   "metadata": {
    "collapsed": false
   },
   "outputs": [],
   "source": [
    "# Basic operations\n",
    "import numpy as np\n",
    "\n",
    "a = np.array( [20,30,40,50] )\n",
    "b = np.arange( 4 )\n",
    "\n",
    "print('a-b:',a-b)\n",
    "print('b**2:',b**2)\n",
    "print('10*np.sin(a):',10*np.sin(a))\n",
    "print('a<35:',a<35)\n",
    "\n",
    "# Mul\n",
    "A = np.array( [[1,1],[0,1]] )\n",
    "B = np.array( [[2,0],[3,4]] )\n",
    "# matrix mul\n",
    "print('A.dot(B):',A.dot(B)) # or np.dot(A,B)\n",
    "# elementwise mul\n",
    "print('A*B:',A*B)\n",
    "\n",
    "# Operations on rows and cols\n",
    "c = np.random.random((2,3))\n",
    "print('c:',c)\n",
    "print('c.sum():',c.sum()) # sum of all elements\n",
    "print('c.min(axis=0):',c.min(axis=0)) # min of each column\n",
    "print('c.max(axis=1):',c.max(axis=1)) # max of each row"
   ]
  },
  {
   "cell_type": "code",
   "execution_count": null,
   "metadata": {
    "collapsed": false
   },
   "outputs": [],
   "source": [
    "# Indexing and Slicing\n",
    "import numpy as np\n",
    "\n",
    "a = np.arange(10)**3\n",
    "print('a:',a)\n",
    "print('a[2]:',a[2]) # single element access (Python is zero-indexed)\n",
    "print('a[2:5]:',a[2:5]) # multiple element access\n",
    "print('a[3:]:',a[3:]) # equivalent to a[3:10]\n",
    "print('a[0:8:2]:',a[0:8:2]) # access with steps\n",
    "print('a[5:0:-1]:',a[5:0:-1]) # reverse order\n",
    "\n",
    "# 2-D arrays\n",
    "b = np.arange(8).reshape((2,4))\n",
    "print('a:',a)\n",
    "print('b[0,3]:',b[0,3])\n",
    "print('b[:,1]:',b[:,1])  # second column of b\n",
    "print('b[-1,:]:',b[-1,:])  # last row of b\n",
    "print('b[0:2,1:3]:',b[0:2,1:3])  # specific rows and columns of b"
   ]
  },
  {
   "cell_type": "code",
   "execution_count": null,
   "metadata": {
    "collapsed": false
   },
   "outputs": [],
   "source": [
    "# Iterating\n",
    "import numpy as np\n",
    "\n",
    "# 1-D arrays\n",
    "a = np.arange(3)\n",
    "print('a*10:')\n",
    "for i in a:\n",
    "    print(i*10)\n",
    "    \n",
    "# Similarly\n",
    "print('with modification:')\n",
    "for i in range(a.shape[0]):\n",
    "    a[i] = a[i]*10\n",
    "    print(a[i])\n",
    "    \n",
    "# 2-D arrays    \n",
    "b = np.arange(6).reshape((2,3))\n",
    "print('rows of b')\n",
    "for row in b:\n",
    "    print(row)\n",
    "    \n",
    "print('nested loops to access all elements in b')\n",
    "for row in b:\n",
    "    for elem in row:\n",
    "        print(elem)\n",
    "        \n",
    "print('flatened array')        \n",
    "for element in b.flat:\n",
    "    print(element)"
   ]
  },
  {
   "cell_type": "code",
   "execution_count": null,
   "metadata": {
    "collapsed": false
   },
   "outputs": [],
   "source": [
    "# Iterating using iterators\n",
    "a = np.arange(6).reshape(2,3)\n",
    "\n",
    "print('reading with iterators:')\n",
    "for i in np.nditer(a):\n",
    "    print(i)\n",
    "    \n",
    "# Modifying Array Values\n",
    "print('wrting with iterators:')\n",
    "for i in np.nditer(a, op_flags=['readwrite']):\n",
    "    i[...] = i*2\n",
    "print('a:',a)"
   ]
  },
  {
   "cell_type": "code",
   "execution_count": null,
   "metadata": {
    "collapsed": false
   },
   "outputs": [],
   "source": [
    "# Copying Arrays\n",
    "import numpy as np\n",
    "\n",
    "# Simple assignments make no copy of array objects or of their data\n",
    "a = np.arange(12)\n",
    "b = a # no new object is created\n",
    "print('b is a:',b is a) # a and b are two names for the same ndarray object\n",
    "print('id(a):',id(a),', id(b):',id(b))\n",
    "b.shape = 3,4    # changes the shape of a\n",
    "print('a.shape:',a.shape)\n",
    "\n",
    "# Deep copy\n",
    "# The copy method makes a complete copy of the array and its data\n",
    "d = a.copy() # a new array object with new data is created\n",
    "print('d is a:',d is a)\n",
    "d[0,0] = 9999 # a doesn't change\n",
    "print('a:',a)"
   ]
  },
  {
   "cell_type": "code",
   "execution_count": 1,
   "metadata": {
    "collapsed": false
   },
   "outputs": [
    {
     "name": "stdout",
     "output_type": "stream",
     "text": [
      "('a:', array([[ 5.11217162,  9.33219585],\n",
      "       [ 3.65909225,  8.45185148]]))\n",
      "('b:', array([[ 4.,  0.],\n",
      "       [ 4.,  8.]]))\n",
      "('np.vstack((a,b)):', array([[ 5.11217162,  9.33219585],\n",
      "       [ 3.65909225,  8.45185148],\n",
      "       [ 4.        ,  0.        ],\n",
      "       [ 4.        ,  8.        ]]))\n",
      "('np.hstack((a,b)):', array([[ 5.11217162,  9.33219585,  4.        ,  0.        ],\n",
      "       [ 3.65909225,  8.45185148,  4.        ,  8.        ]]))\n",
      "('c:', array([ 50, 100]))\n",
      "('np.column_stack((a,c)):', array([[   5.11217162,    9.33219585,   50.        ],\n",
      "       [   3.65909225,    8.45185148,  100.        ]]))\n"
     ]
    }
   ],
   "source": [
    "# Stacking Arrays\n",
    "import numpy as np\n",
    "\n",
    "a = 10*np.random.random((2,2))\n",
    "print('a:',a)\n",
    "b = np.floor(10*np.random.random((2,2)))\n",
    "print('b:',b)\n",
    "# vertical stack\n",
    "print('np.vstack((a,b)):',np.vstack((a,b)))\n",
    "# horizontal stack\n",
    "print('np.hstack((a,b)):',np.hstack((a,b)))\n",
    "# stacking vectors to 2-D arrays\n",
    "c = np.array([50,100])\n",
    "print('c:',c)\n",
    "print('np.column_stack((a,c)):',np.column_stack((a,c)))"
   ]
  },
  {
   "cell_type": "code",
   "execution_count": null,
   "metadata": {
    "collapsed": false
   },
   "outputs": [],
   "source": [
    "# Creating an image\n",
    "import numpy as np\n",
    "import cv2\n",
    "\n",
    "img = np.random.random((240,320))\n",
    "cv2.imshow('random image',img)\n",
    "cv2.waitKey(0)\n",
    "cv2.destroyAllWindows()"
   ]
  },
  {
   "cell_type": "code",
   "execution_count": null,
   "metadata": {
    "collapsed": false
   },
   "outputs": [],
   "source": [
    "# Accessing and Modifying pixel values\n",
    "import numpy as np\n",
    "import cv2\n",
    "# Load an image\n",
    "img = cv2.imread(\"C:\\opencv\\sources\\samples\\data\\messi5.jpg\")\n",
    "\n",
    "# accessing the blue intensity of a single pixel (row,col,channel)\n",
    "print('img[50,100,0]:',img[50,100,0])\n",
    "# accessing all color channels\n",
    "print('img[50,100]:',img[50,100])\n",
    "\n",
    "# modifying pixel values\n",
    "img[50,100] = [128,128,128]\n",
    "print('img[50,100]',img[50,100])\n",
    "\n",
    "# modifying an image region\n",
    "img[0:50,0:50] = 255\n",
    "\n",
    "cv2.imshow('image',img)\n",
    "cv2.waitKey(0)\n",
    "cv2.destroyAllWindows()"
   ]
  },
  {
   "cell_type": "code",
   "execution_count": null,
   "metadata": {
    "collapsed": false
   },
   "outputs": [],
   "source": [
    "# Pixel Manipulation\n",
    "import numpy as np\n",
    "import cv2\n",
    "import time\n",
    "\n",
    "# Load an image\n",
    "img = cv2.imread(\"C:\\opencv\\sources\\samples\\data\\messi5.jpg\")\n",
    "img2 = img.copy() # deep copy of the image\n",
    "height, width, depth = img.shape # reading image size\n",
    "\n",
    "t0 = time.time() # for performance measurement\n",
    "for row in range(0,height):\n",
    "    for col in range(0,width):\n",
    "        for ch in range(0,depth):\n",
    "            img[row,col,ch] = 255 - img[row,col,ch] # negative image\n",
    "print('Elapsed time:',time.time()-t0) # elapsed time\n",
    "\n",
    "# same opertation, without for loops\n",
    "t0 = time.time()  # for performance measurement\n",
    "img2 = 255 - img2\n",
    "print('Elapsed time:',time.time()-t0) # elapsed time\n",
    "\n",
    "cv2.imshow('image',img)\n",
    "cv2.imshow('image2',img2)\n",
    "cv2.waitKey(0)\n",
    "cv2.destroyAllWindows()"
   ]
  },
  {
   "cell_type": "code",
   "execution_count": null,
   "metadata": {
    "collapsed": false
   },
   "outputs": [],
   "source": [
    "# Image Thresholding\n",
    "import numpy as np\n",
    "import cv2\n",
    "\n",
    "# Load an image\n",
    "img = cv2.imread(\"C:\\opencv\\sources\\samples\\data\\home.jpg\")\n",
    "\n",
    "# Convert to grayscale\n",
    "img_gray = cv2.cvtColor(img,cv2.COLOR_BGR2GRAY)\n",
    "height, width = img_gray.shape # reading image size\n",
    "\n",
    "# Set the treshold\n",
    "THRESH = 160\n",
    "\n",
    "# Create a placeholder for the output\n",
    "img_thresh = np.zeros((height,width),dtype=np.uint8)\n",
    "\n",
    "for row in range(0,height):\n",
    "    for col in range(0,width):\n",
    "        if img_gray[row,col]>THRESH:\n",
    "           img_thresh[row,col] = 255\n",
    "\n",
    "# same opertation, without for loops\n",
    "ret,img_thresh2 = cv2.threshold(img_gray,THRESH,255,cv2.THRESH_BINARY)\n",
    "\n",
    "cv2.imshow('grayscale image',img_gray)\n",
    "cv2.imshow('thresholded image',img_thresh)\n",
    "cv2.imshow('thresholded image2',img_thresh2)\n",
    "cv2.waitKey(0)\n",
    "cv2.destroyAllWindows()"
   ]
  },
  {
   "cell_type": "code",
   "execution_count": null,
   "metadata": {
    "collapsed": false
   },
   "outputs": [],
   "source": [
    "# Splitting and Merging Image Channels\n",
    "import numpy as np\n",
    "import cv2\n",
    "\n",
    "# Load an image\n",
    "img = cv2.imread(\"C:\\opencv\\sources\\samples\\data\\messi5.jpg\")\n",
    "\n",
    "# split image\n",
    "b,g,r = cv2.split(img)\n",
    "\n",
    "# replace blue and red channels\n",
    "# merge channels\n",
    "img = cv2.merge((r,g,b))\n",
    "\n",
    "cv2.imshow('image',img)\n",
    "cv2.waitKey(0)\n",
    "cv2.destroyAllWindows()"
   ]
  },
  {
   "cell_type": "code",
   "execution_count": null,
   "metadata": {
    "collapsed": false
   },
   "outputs": [],
   "source": [
    "# Image Addition\n",
    "import numpy as np\n",
    "import cv2\n",
    "\n",
    "# We can both use OpenCV cv2.add() or simply by numpy operation\n",
    "# OpenCV addition is a saturated operation  250+10 = 260 => 255\n",
    "# Numpy addition is a modulo operation      250+10 = 260 % 256 = 4\n",
    "\n",
    "# Load images\n",
    "img1 = cv2.imread(\"C:\\opencv\\sources\\samples\\data\\ml.png\")\n",
    "img2 = cv2.imread(\"C:\\opencv\\sources\\samples\\data\\opencv-logo-white.png\")\n",
    "\n",
    "# images should be the same size\n",
    "height, width, depth = img1.shape # reading img1 size\n",
    "img2 = cv2.resize(img2, (width,height))\n",
    "\n",
    "# Add\n",
    "res1 = cv2.add(img1,img2)\n",
    "res2 = img1 + img2\n",
    "\n",
    "cv2.imshow('res1',res1)\n",
    "cv2.imshow('res2',res2)\n",
    "cv2.waitKey(0)\n",
    "cv2.destroyAllWindows()"
   ]
  },
  {
   "cell_type": "code",
   "execution_count": null,
   "metadata": {
    "collapsed": false
   },
   "outputs": [],
   "source": [
    "# Image Blending\n",
    "import numpy as np\n",
    "import cv2\n",
    "\n",
    "# Load images\n",
    "img1 = cv2.imread(\"C:\\opencv\\sources\\samples\\data\\ml.png\")\n",
    "img2 = cv2.imread(\"C:\\opencv\\sources\\samples\\data\\opencv-logo-white.png\")\n",
    "\n",
    "# images should be the same size\n",
    "height, width, depth = img1.shape # reading img1 size\n",
    "img2 = cv2.resize(img2, (width,height))\n",
    "\n",
    "# Weighted sum\n",
    "blend = cv2.addWeighted(img1,0.7,img2,0.3,0)\n",
    "\n",
    "cv2.imshow('blend',blend)\n",
    "cv2.waitKey(0)\n",
    "cv2.destroyAllWindows()"
   ]
  },
  {
   "cell_type": "code",
   "execution_count": null,
   "metadata": {
    "collapsed": false
   },
   "outputs": [],
   "source": [
    "# Image Filtering: Box filter\n",
    "import numpy as np\n",
    "import cv2\n",
    "from matplotlib import pyplot as plt\n",
    "\n",
    "# Load an image\n",
    "img = cv2.imread(\"C:\\opencv\\sources\\samples\\data\\messi5.jpg\")\n",
    "\n",
    "# Create a Box Filter\n",
    "kernel = np.ones((5,5),np.float32)/25\n",
    "print('kernel:',kernel)\n",
    "\n",
    "# Filter the image\n",
    "res1 = cv2.filter2D(img,-1,kernel)\n",
    "\n",
    "# Similar results using cv2.blur() \n",
    "res2 = cv2.blur(img,(5,5))\n",
    "\n",
    "# Plot using matplotlib\n",
    "plt.subplot(131),plt.imshow(img),plt.title('Original')  # 1x3 subplot,1 selected\n",
    "plt.xticks([]), plt.yticks([]) # remove axes ticks\n",
    "plt.subplot(132),plt.imshow(res1),plt.title('Box filter')#1x3 subplot,2 selected\n",
    "plt.xticks([]), plt.yticks([]) # remove axes ticks\n",
    "plt.subplot(133),plt.imshow(res2),plt.title('Box filter')#1x3 subplot,3 selected\n",
    "plt.xticks([]), plt.yticks([]) # remove axes ticks\n",
    "plt.show() # display all subplots"
   ]
  },
  {
   "cell_type": "code",
   "execution_count": null,
   "metadata": {
    "collapsed": false
   },
   "outputs": [],
   "source": [
    "# Image Filtering: Gaussian filter\n",
    "import numpy as np\n",
    "import cv2\n",
    "from matplotlib import pyplot as plt\n",
    "\n",
    "# Load an image\n",
    "img = cv2.imread(\"C:\\opencv\\sources\\samples\\data\\messi5.jpg\")\n",
    "\n",
    "# Filter the image using 5x5 Gaussian, the std is calculated automatically\n",
    "res1 = cv2.GaussianBlur(img,(5,5),0)\n",
    "\n",
    "# Filter the image using 9x9 Gaussian, the std is calculated automatically\n",
    "res2 = cv2.GaussianBlur(img,(9,9),0)\n",
    "\n",
    "\n",
    "# Plot using matplotlib\n",
    "plt.subplot(131),plt.imshow(img),plt.title('Original')  # 1x3 subplot,1 selected\n",
    "plt.xticks([]), plt.yticks([]) # remove axes ticks\n",
    "plt.subplot(132),plt.imshow(res1),plt.title('5x5Gaussian')#1x3 subplot,2 selected\n",
    "plt.xticks([]), plt.yticks([]) # remove axes ticks\n",
    "plt.subplot(133),plt.imshow(res2),plt.title('9x9Gaussian')#1x3 subplot,3 selected\n",
    "plt.xticks([]), plt.yticks([]) # remove axes ticks\n",
    "plt.show() # display all subplots"
   ]
  },
  {
   "cell_type": "code",
   "execution_count": null,
   "metadata": {
    "collapsed": false
   },
   "outputs": [],
   "source": [
    "# Image Filtering: Median filter\n",
    "import numpy as np\n",
    "import cv2\n",
    "from matplotlib import pyplot as plt\n",
    "\n",
    "# Load a noisy image\n",
    "img = cv2.imread(\"C:\\opencv\\sources\\samples\\data\\pic2.png\")\n",
    "\n",
    "# Filter the image using 5x5 Median filter\n",
    "res = cv2.medianBlur(img,5)\n",
    "\n",
    "# Plot using matplotlib\n",
    "plt.subplot(121),plt.imshow(img),plt.title('Image')   # 1x2 subplot, 1 selected\n",
    "plt.xticks([]), plt.yticks([]) # remove axes ticks\n",
    "plt.subplot(122),plt.imshow(res),plt.title('Median') # 1x2 subplot, 2 selected\n",
    "plt.xticks([]), plt.yticks([]) # remove axes ticks\n",
    "plt.show() # display all subplots"
   ]
  },
  {
   "cell_type": "code",
   "execution_count": null,
   "metadata": {
    "collapsed": true
   },
   "outputs": [],
   "source": []
  }
 ],
 "metadata": {
  "anaconda-cloud": {},
  "kernelspec": {
   "display_name": "Python [conda root]",
   "language": "python",
   "name": "conda-root-py"
  },
  "language_info": {
   "codemirror_mode": {
    "name": "ipython",
    "version": 2
   },
   "file_extension": ".py",
   "mimetype": "text/x-python",
   "name": "python",
   "nbconvert_exporter": "python",
   "pygments_lexer": "ipython2",
   "version": "2.7.12"
  }
 },
 "nbformat": 4,
 "nbformat_minor": 1
}
