{
 "cells": [
  {
   "cell_type": "code",
   "execution_count": null,
   "metadata": {
    "collapsed": false
   },
   "outputs": [],
   "source": [
    "# Modify this based on your system\n",
    "SAMPLES_DATA_DIR = 'C:/opencv/sources/samples/data/'"
   ]
  },
  {
   "cell_type": "code",
   "execution_count": null,
   "metadata": {
    "collapsed": false
   },
   "outputs": [],
   "source": [
    "# Harris Corner Detector\n",
    "import cv2\n",
    "import numpy as np\n",
    "from matplotlib import pyplot as plt\n",
    "\n",
    "# Load the image (load as colored)\n",
    "img = cv2.imread(SAMPLES_DATA_DIR+'chessboard.png',cv2.IMREAD_COLOR)\n",
    "# Create a gray-scaled version\n",
    "img_gray = cv2.cvtColor(img, cv2.COLOR_BGR2GRAY)\n",
    "\n",
    "# Detect Harris corners\n",
    "# cv2.cornerHarris(src, neighborhoodSize, sobelKernelSize, Harris_k)\n",
    "# corners is the Harris corner map, a cornerness for each pixel\n",
    "corners = cv2.cornerHarris(img_gray,2,3,0.04)\n",
    "# Normalize the Harris cornermap between 0 and 1\n",
    "cv2.normalize(corners,corners,0,1,cv2.NORM_MINMAX)\n",
    "\n",
    "# Threshold for an optimal value, it may vary depending on the image.\n",
    "threshold = 0.6\n",
    "\n",
    "# list of all points, higher than the threshold\n",
    "# loc[0] is an numpy array, containing the x coordinates\n",
    "# loc[1] is an numpy array, containing the y coordinates\n",
    "loc = np.where( corners >= threshold)\n",
    "\n",
    "# loop through the points\n",
    "# zip() aggregates elements from loc[0] and loc[1]\n",
    "for pt in zip(*loc[::-1]):  \n",
    "    # draw a filled circle on each point\n",
    "    cv2.circle(img, pt,50, (255,0,0), -1)\n",
    "\n",
    "# Display\n",
    "plt.imshow(img),plt.xticks([]), plt.yticks([]),plt.show()"
   ]
  },
  {
   "cell_type": "code",
   "execution_count": null,
   "metadata": {
    "collapsed": false
   },
   "outputs": [],
   "source": [
    "# Detour on zip\n",
    "x=[1,2,3]\n",
    "y=[4,5,6]\n",
    "for pt in zip(x,y):\n",
    "    print(pt)"
   ]
  },
  {
   "cell_type": "code",
   "execution_count": null,
   "metadata": {
    "collapsed": false
   },
   "outputs": [],
   "source": [
    "# SIFT Feature Detector\n",
    "import cv2\n",
    "import numpy as np\n",
    "from matplotlib import pyplot as plt\n",
    "\n",
    "# Load the image \n",
    "img = cv2.imread(SAMPLES_DATA_DIR+'lena.jpg')\n",
    "\n",
    "# Create a SIFT object\n",
    "sift = cv2.xfeatures2d.SIFT_create()\n",
    "\n",
    "# Detect SIFT features, with no masks\n",
    "keypoints = sift.detect(img,None)\n",
    "\n",
    "# Draw the keypoints\n",
    "img_disp = img.copy()\n",
    "cv2.drawKeypoints(img,keypoints,img_disp,flags=cv2.DRAW_MATCHES_FLAGS_DRAW_RICH_KEYPOINTS)\n",
    "\n",
    "# Display\n",
    "cv2.imshow(\"img\",img_disp)\n",
    "cv2.waitKey(0)\n",
    "cv2.destroyAllWindows()\n",
    "\n",
    "# Num of SIFT keypoints\n",
    "print('Num keypoints: '+ str(len(keypoints)))"
   ]
  },
  {
   "cell_type": "code",
   "execution_count": null,
   "metadata": {
    "collapsed": false
   },
   "outputs": [],
   "source": [
    "# SIFT Descriptors\n",
    "import cv2\n",
    "import numpy as np\n",
    "from matplotlib import pyplot as plt\n",
    "\n",
    "# Load the image \n",
    "img = cv2.imread(SAMPLES_DATA_DIR+'lena.jpg')\n",
    "\n",
    "# Create a SIFT object\n",
    "sift = cv2.xfeatures2d.SIFT_create()\n",
    "\n",
    "# Detect SIFT features, with no masks\n",
    "keypoints = sift.detect(img,None)\n",
    "\n",
    "# Compute SIFT descriptors\n",
    "keypoints,descriptors = sift.compute(img,keypoints)\n",
    "\n",
    "# Alternatively, we can use keypoints,descriptors = sift.detectAndCompute(gray,None) to get both\n",
    "\n",
    "# Num of SIFT keypoints/descriptors\n",
    "print('descriptors size: '+ str(descriptors.shape))\n",
    "\n",
    "# Plot a couple of 1x128 SIFT descriptors using matplotlib plot()\n",
    "Num = 3\n",
    "for i in range(Num):\n",
    "    # Plot the 256x1 np array using matplotlib plot()\n",
    "    plt.plot(descriptors[i])\n",
    "    plt.xlim([0,128]) # Set x-axis limit\n",
    "plt.show()"
   ]
  },
  {
   "cell_type": "code",
   "execution_count": null,
   "metadata": {
    "collapsed": false
   },
   "outputs": [],
   "source": [
    "# Feature matching\n",
    "import cv2\n",
    "import numpy as np\n",
    "from matplotlib import pyplot as plt\n",
    "\n",
    "# Load the image \n",
    "img1 = cv2.imread(SAMPLES_DATA_DIR+'lena.jpg')\n",
    "height, width = img1.shape[0:2] # image size\n",
    "\n",
    "# Create a rotated, scaled duplicate\n",
    "# rotation marix around the center pixel, 30 degrees,scale of 1.2\n",
    "M = cv2.getRotationMatrix2D((width/2,height/2),30,1.2)\n",
    "# Apply the transformation matrix\n",
    "img2 = cv2.warpAffine(img1,M,(width,height))\n",
    "\n",
    "# Create a SIFT object\n",
    "sift = cv2.xfeatures2d.SIFT_create()\n",
    "\n",
    "# Compute the keypoints/descriptors\n",
    "keypoints1,descriptors1 = sift.detectAndCompute(img1,None)\n",
    "keypoints2,descriptors2 = sift.detectAndCompute(img2,None)\n",
    "\n",
    "# Matching\n",
    "# use cv2.BFMatcher for the assignment\n",
    "# we will try to match a randomly-selected feature from img1 to img2\n",
    "idx = 0\n",
    "# Loop through all descriptors in img2 to find the closest match\n",
    "bestMatch_idx = -1\n",
    "bestMatch_dist = float('inf')\n",
    "for i in range(descriptors2.shape[0]):\n",
    "    dist = cv2.norm(descriptors1[idx],descriptors2[i],cv2.NORM_L2)\n",
    "    if dist < bestMatch_dist:\n",
    "        bestMatch_dist = dist\n",
    "        bestMatch_idx = i\n",
    "        \n",
    "# Draw the keypoints\n",
    "img_disp1 = img1.copy()\n",
    "img_disp2 = img2.copy()\n",
    "# draw a filled circle on each point\n",
    "center1 = (int(keypoints1[idx].pt[0]),int(keypoints1[idx].pt[1]))\n",
    "center2 = (int(keypoints2[bestMatch_idx].pt[0]),int(keypoints2[bestMatch_idx].pt[1]))\n",
    "cv2.circle(img_disp1, center1, 10, (255,0,0), -1)\n",
    "cv2.circle(img_disp2, center2, 12, (255,0,0), -1)\n",
    "\n",
    "# Display\n",
    "plt.subplot(221),plt.imshow(img_disp1),plt.title('img1')\n",
    "plt.xticks([]), plt.yticks([])\n",
    "plt.subplot(222),plt.imshow(img_disp2),plt.title('img2')\n",
    "plt.xticks([]), plt.yticks([])\n",
    "\n",
    "# Plot the descriptors\n",
    "plt.subplot(223),plt.plot(descriptors1[idx]),plt.title('desc1')\n",
    "plt.xlim([0,128]) # Set x-axis limit\n",
    "plt.subplot(224),plt.plot(descriptors2[bestMatch_idx]),plt.title('desc2')\n",
    "plt.xlim([0,128]) # Set x-axis limit\n",
    "plt.show() # display all subplots"
   ]
  },
  {
   "cell_type": "code",
   "execution_count": null,
   "metadata": {
    "collapsed": true
   },
   "outputs": [],
   "source": []
  }
 ],
 "metadata": {
  "anaconda-cloud": {},
  "kernelspec": {
   "display_name": "Python [default]",
   "language": "python",
   "name": "python2"
  },
  "language_info": {
   "codemirror_mode": {
    "name": "ipython",
    "version": 2
   },
   "file_extension": ".py",
   "mimetype": "text/x-python",
   "name": "python",
   "nbconvert_exporter": "python",
   "pygments_lexer": "ipython2",
   "version": "2.7.12"
  }
 },
 "nbformat": 4,
 "nbformat_minor": 1
}
